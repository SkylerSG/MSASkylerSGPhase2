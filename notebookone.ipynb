{
 "cells": [
  {
   "cell_type": "code",
   "execution_count": 9,
   "metadata": {},
   "outputs": [],
   "source": [
    "import pandas as pd\n",
    "from matplotlib import pyplot as plt\n"
   ]
  },
  {
   "cell_type": "code",
   "execution_count": 10,
   "metadata": {},
   "outputs": [
    {
     "name": "stdout",
     "output_type": "stream",
     "text": [
      "\n",
      "First 10 lines, Exam Set:\n",
      "\n",
      "    Unnamed: 0  Gender EthnicGroup          ParentEduc     LunchType  \\\n",
      "0           0  female         NaN   bachelor's degree      standard   \n",
      "1           1  female     group C        some college      standard   \n",
      "2           2  female     group B     master's degree      standard   \n",
      "3           3    male     group A  associate's degree  free/reduced   \n",
      "4           4    male     group C        some college      standard   \n",
      "5           5  female     group B  associate's degree      standard   \n",
      "6           6  female     group B        some college      standard   \n",
      "7           7    male     group B        some college  free/reduced   \n",
      "8           8    male     group D         high school  free/reduced   \n",
      "9           9  female     group B         high school  free/reduced   \n",
      "\n",
      "    TestPrep ParentMaritalStatus PracticeSport IsFirstChild  NrSiblings  \\\n",
      "0       none             married     regularly          yes         3.0   \n",
      "1        NaN             married     sometimes          yes         0.0   \n",
      "2       none              single     sometimes          yes         4.0   \n",
      "3       none             married         never           no         1.0   \n",
      "4       none             married     sometimes          yes         0.0   \n",
      "5       none             married     regularly          yes         1.0   \n",
      "6  completed             widowed         never           no         1.0   \n",
      "7       none             married     sometimes          yes         1.0   \n",
      "8  completed              single     sometimes           no         3.0   \n",
      "9       none             married     regularly          yes         NaN   \n",
      "\n",
      "  TransportMeans WklyStudyHours  MathScore  ReadingScore  WritingScore  \n",
      "0     school_bus            < 5         71            71            74  \n",
      "1            NaN         5 - 10         69            90            88  \n",
      "2     school_bus            < 5         87            93            91  \n",
      "3            NaN         5 - 10         45            56            42  \n",
      "4     school_bus         5 - 10         76            78            75  \n",
      "5     school_bus         5 - 10         73            84            79  \n",
      "6        private         5 - 10         85            93            89  \n",
      "7        private           > 10         41            43            39  \n",
      "8        private           > 10         65            64            68  \n",
      "9        private            < 5         37            59            50   \n",
      "\n",
      "First 10 lines, Market Segmentation Set:\n",
      "\n",
      "        ID  Gender Ever_Married  Age Graduated     Profession  Work_Experience  \\\n",
      "0  462809    Male           No   22        No     Healthcare              1.0   \n",
      "1  462643  Female          Yes   38       Yes       Engineer              NaN   \n",
      "2  466315  Female          Yes   67       Yes       Engineer              1.0   \n",
      "3  461735    Male          Yes   67       Yes         Lawyer              0.0   \n",
      "4  462669  Female          Yes   40       Yes  Entertainment              NaN   \n",
      "5  461319    Male          Yes   56        No         Artist              0.0   \n",
      "6  460156    Male           No   32       Yes     Healthcare              1.0   \n",
      "7  464347  Female           No   33       Yes     Healthcare              1.0   \n",
      "8  465015  Female          Yes   61       Yes       Engineer              0.0   \n",
      "9  465176  Female          Yes   55       Yes         Artist              1.0   \n",
      "\n",
      "  Spending_Score  Family_Size  Var_1 Segmentation  \n",
      "0            Low          4.0  Cat_4            D  \n",
      "1        Average          3.0  Cat_4            A  \n",
      "2            Low          1.0  Cat_6            B  \n",
      "3           High          2.0  Cat_6            B  \n",
      "4           High          6.0  Cat_6            A  \n",
      "5        Average          2.0  Cat_6            C  \n",
      "6            Low          3.0  Cat_6            C  \n",
      "7            Low          3.0  Cat_6            D  \n",
      "8            Low          3.0  Cat_7            D  \n",
      "9        Average          4.0  Cat_6            C  \n"
     ]
    }
   ],
   "source": [
    "examscores = pd.read_csv(\"datasets\\exam_scores.csv\", delimiter=',')\n",
    "mktsegmentation = pd.read_csv(\"datasets\\market_segmentation.csv\", delimiter=',')\n",
    "pvexam = examscores.head(10)\n",
    "pvmkt = mktsegmentation.head(10)\n",
    "print('\\nFirst 10 lines, Exam Set:\\n\\n',pvexam,'\\n\\nFirst 10 lines, Market Segmentation Set:\\n\\n',pvmkt)"
   ]
  },
  {
   "attachments": {},
   "cell_type": "markdown",
   "metadata": {},
   "source": []
  },
  {
   "cell_type": "code",
   "execution_count": 11,
   "metadata": {},
   "outputs": [
    {
     "name": "stdout",
     "output_type": "stream",
     "text": [
      "\n",
      "Exam Score Mean(s):\n",
      " NrSiblings       2.145894\n",
      "MathScore       66.558402\n",
      "ReadingScore    69.377533\n",
      "WritingScore    68.418622\n",
      "dtype: float64 \n",
      "Market Segmentation Mean(s):\n",
      " Age            43.466906\n",
      "Family_Size     2.850123\n",
      "dtype: float64 \n",
      "Exam Score Standard Deviation(s):\n",
      " NrSiblings       1.458242\n",
      "MathScore       15.361616\n",
      "ReadingScore    14.758952\n",
      "WritingScore    15.443525\n",
      "dtype: float64 \n",
      "Market Segmentation Standard Deviation(s):\n",
      " NrSiblings       1.458242\n",
      "MathScore       15.361616\n",
      "ReadingScore    14.758952\n",
      "WritingScore    15.443525\n",
      "dtype: float64\n"
     ]
    }
   ],
   "source": [
    "exmnum = examscores[[\"NrSiblings\",\"MathScore\",\"ReadingScore\",\"WritingScore\"]]\n",
    "mktnum = mktsegmentation[[\"Age\",\"Family_Size\"]]\n",
    "\n",
    "print(\"\\nExam Score Mean(s):\\n\",exmnum.mean(),\"\\nMarket Segmentation Mean(s):\\n\",mktnum.mean(),\"\\nExam Score Standard Deviation(s):\\n\",exmnum.std(),\"\\nMarket Segmentation Standard Deviation(s):\\n\",exmnum.std())"
   ]
  },
  {
   "cell_type": "code",
   "execution_count": 20,
   "metadata": {},
   "outputs": [
    {
     "name": "stderr",
     "output_type": "stream",
     "text": [
      "C:\\Users\\skyso\\AppData\\Local\\Temp\\ipykernel_8488\\3802251366.py:14: UserWarning: Matplotlib is currently using module://matplotlib_inline.backend_inline, which is a non-GUI backend, so cannot show the figure.\n",
      "  fig.show()\n"
     ]
    },
    {
     "data": {
      "image/png": "[encoded data removed]",
      "text/plain": [
       "<Figure size 1000x400 with 1 Axes>"
      ]
     },
     "metadata": {},
     "output_type": "display_data"
    }
   ],
   "source": [
    "# Get the variable to examine\n",
    "var = examscores[\"NrSiblings\"]\n",
    "\n",
    "# Create a Figure\n",
    "fig = plt.figure(figsize=(10,4))\n",
    "\n",
    "# Plot a histogram\n",
    "plt.boxplot(var)\n",
    "\n",
    "# Add titles and labels\n",
    "plt.title('Data Distribution')\n",
    "\n",
    "# Show the figure\n",
    "fig.show()"
   ]
  }
 ],
 "metadata": {
  "kernelspec": {
   "display_name": "venv",
   "language": "python",
   "name": "python3"
  },
  "language_info": {
   "codemirror_mode": {
    "name": "ipython",
    "version": 3
   },
   "file_extension": ".py",
   "mimetype": "text/x-python",
   "name": "python",
   "nbconvert_exporter": "python",
   "pygments_lexer": "ipython3",
   "version": "3.10.9"
  },
  "orig_nbformat": 4
 },
 "nbformat": 4,
 "nbformat_minor": 2
}
