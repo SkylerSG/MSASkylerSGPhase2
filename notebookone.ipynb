{
 "cells": [
  {
   "cell_type": "code",
   "execution_count": 20,
   "metadata": {},
   "outputs": [],
   "source": [
    "import pandas as pd\n"
   ]
  },
  {
   "cell_type": "code",
   "execution_count": 21,
   "metadata": {},
   "outputs": [
    {
     "name": "stdout",
     "output_type": "stream",
     "text": [
      "\n",
      "First 10 lines, Exam Set:\n",
      "\n",
      "    Unnamed: 0  Gender EthnicGroup          ParentEduc     LunchType  \\\n",
      "0           0  female         NaN   bachelor's degree      standard   \n",
      "1           1  female     group C        some college      standard   \n",
      "2           2  female     group B     master's degree      standard   \n",
      "3           3    male     group A  associate's degree  free/reduced   \n",
      "4           4    male     group C        some college      standard   \n",
      "5           5  female     group B  associate's degree      standard   \n",
      "6           6  female     group B        some college      standard   \n",
      "7           7    male     group B        some college  free/reduced   \n",
      "8           8    male     group D         high school  free/reduced   \n",
      "9           9  female     group B         high school  free/reduced   \n",
      "\n",
      "    TestPrep ParentMaritalStatus PracticeSport IsFirstChild  NrSiblings  \\\n",
      "0       none             married     regularly          yes         3.0   \n",
      "1        NaN             married     sometimes          yes         0.0   \n",
      "2       none              single     sometimes          yes         4.0   \n",
      "3       none             married         never           no         1.0   \n",
      "4       none             married     sometimes          yes         0.0   \n",
      "5       none             married     regularly          yes         1.0   \n",
      "6  completed             widowed         never           no         1.0   \n",
      "7       none             married     sometimes          yes         1.0   \n",
      "8  completed              single     sometimes           no         3.0   \n",
      "9       none             married     regularly          yes         NaN   \n",
      "\n",
      "  TransportMeans WklyStudyHours  MathScore  ReadingScore  WritingScore  \n",
      "0     school_bus            < 5         71            71            74  \n",
      "1            NaN         5 - 10         69            90            88  \n",
      "2     school_bus            < 5         87            93            91  \n",
      "3            NaN         5 - 10         45            56            42  \n",
      "4     school_bus         5 - 10         76            78            75  \n",
      "5     school_bus         5 - 10         73            84            79  \n",
      "6        private         5 - 10         85            93            89  \n",
      "7        private           > 10         41            43            39  \n",
      "8        private           > 10         65            64            68  \n",
      "9        private            < 5         37            59            50   \n",
      "\n",
      "First 10 lines, Market Segmentation Set:\n",
      "\n",
      "        ID  Gender Ever_Married  Age Graduated     Profession  Work_Experience  \\\n",
      "0  462809    Male           No   22        No     Healthcare              1.0   \n",
      "1  462643  Female          Yes   38       Yes       Engineer              NaN   \n",
      "2  466315  Female          Yes   67       Yes       Engineer              1.0   \n",
      "3  461735    Male          Yes   67       Yes         Lawyer              0.0   \n",
      "4  462669  Female          Yes   40       Yes  Entertainment              NaN   \n",
      "5  461319    Male          Yes   56        No         Artist              0.0   \n",
      "6  460156    Male           No   32       Yes     Healthcare              1.0   \n",
      "7  464347  Female           No   33       Yes     Healthcare              1.0   \n",
      "8  465015  Female          Yes   61       Yes       Engineer              0.0   \n",
      "9  465176  Female          Yes   55       Yes         Artist              1.0   \n",
      "\n",
      "  Spending_Score  Family_Size  Var_1 Segmentation  \n",
      "0            Low          4.0  Cat_4            D  \n",
      "1        Average          3.0  Cat_4            A  \n",
      "2            Low          1.0  Cat_6            B  \n",
      "3           High          2.0  Cat_6            B  \n",
      "4           High          6.0  Cat_6            A  \n",
      "5        Average          2.0  Cat_6            C  \n",
      "6            Low          3.0  Cat_6            C  \n",
      "7            Low          3.0  Cat_6            D  \n",
      "8            Low          3.0  Cat_7            D  \n",
      "9        Average          4.0  Cat_6            C  \n"
     ]
    }
   ],
   "source": [
    "examscores = pd.read_csv(\"datasets\\exam_scores.csv\", delimiter=',')\n",
    "mktsegmentation = pd.read_csv(\"datasets\\market_segmentation.csv\", delimiter=',')\n",
    "pvexam = examscores.head(10)\n",
    "pvmkt = mktsegmentation.head(10)\n",
    "print('\\nFirst 10 lines, Exam Set:\\n\\n',pvexam,'\\n\\nFirst 10 lines, Market Segmentation Set:\\n\\n',pvmkt)"
   ]
  }
 ],
 "metadata": {
  "kernelspec": {
   "display_name": "venv",
   "language": "python",
   "name": "python3"
  },
  "language_info": {
   "codemirror_mode": {
    "name": "ipython",
    "version": 3
   },
   "file_extension": ".py",
   "mimetype": "text/x-python",
   "name": "python",
   "nbconvert_exporter": "python",
   "pygments_lexer": "ipython3",
   "version": "3.10.9"
  },
  "orig_nbformat": 4
 },
 "nbformat": 4,
 "nbformat_minor": 2
}
